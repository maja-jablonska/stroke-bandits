{
 "cells": [
  {
   "cell_type": "code",
   "execution_count": 1,
   "id": "4b89820b",
   "metadata": {},
   "outputs": [],
   "source": [
    "from ucb import NeuralUCB, LinUCB\n",
    "import joblib\n",
    "import pandas as pd"
   ]
  },
  {
   "cell_type": "code",
   "execution_count": 2,
   "id": "7593ec33",
   "metadata": {},
   "outputs": [],
   "source": [
    "offline_placebo_model = joblib.load(\"rewarder/placebo_ohs6_predictor.pkl\")\n",
    "offline_treatment_model = joblib.load(\"rewarder/treat_ohs6_predictor.pkl\")"
   ]
  },
  {
   "cell_type": "code",
   "execution_count": 3,
   "id": "7b674ef6",
   "metadata": {},
   "outputs": [],
   "source": [
    "df = pd.read_csv('action_reward_context_combined_processed.csv')"
   ]
  },
  {
   "cell_type": "code",
   "execution_count": 4,
   "id": "1561878d",
   "metadata": {},
   "outputs": [
    {
     "data": {
      "text/html": [
       "<div>\n",
       "<style scoped>\n",
       "    .dataframe tbody tr th:only-of-type {\n",
       "        vertical-align: middle;\n",
       "    }\n",
       "\n",
       "    .dataframe tbody tr th {\n",
       "        vertical-align: top;\n",
       "    }\n",
       "\n",
       "    .dataframe thead th {\n",
       "        text-align: right;\n",
       "    }\n",
       "</style>\n",
       "<table border=\"1\" class=\"dataframe\">\n",
       "  <thead>\n",
       "    <tr style=\"text-align: right;\">\n",
       "      <th></th>\n",
       "      <th>ohs6</th>\n",
       "      <th>treatment</th>\n",
       "      <th>pretrialexp</th>\n",
       "      <th>phase</th>\n",
       "      <th>age</th>\n",
       "      <th>randdelay</th>\n",
       "      <th>sbprand</th>\n",
       "      <th>dbprand</th>\n",
       "      <th>weight</th>\n",
       "      <th>glucose</th>\n",
       "      <th>...</th>\n",
       "      <th>visuospat_rand_Unknown</th>\n",
       "      <th>visuospat_rand_Yes</th>\n",
       "      <th>brainstemsigns_rand_Unknown</th>\n",
       "      <th>brainstemsigns_rand_Yes</th>\n",
       "      <th>otherdeficit_rand_Unknown</th>\n",
       "      <th>otherdeficit_rand_Yes</th>\n",
       "      <th>stroketype_Other</th>\n",
       "      <th>stroketype_PACI</th>\n",
       "      <th>stroketype_POCI</th>\n",
       "      <th>stroketype_TACI</th>\n",
       "    </tr>\n",
       "  </thead>\n",
       "  <tbody>\n",
       "    <tr>\n",
       "      <th>0</th>\n",
       "      <td>0.333333</td>\n",
       "      <td>0</td>\n",
       "      <td>-1.234669</td>\n",
       "      <td>0.295828</td>\n",
       "      <td>1.246717</td>\n",
       "      <td>-1.656541</td>\n",
       "      <td>0.637048</td>\n",
       "      <td>0.721876</td>\n",
       "      <td>-0.298921</td>\n",
       "      <td>-0.512456</td>\n",
       "      <td>...</td>\n",
       "      <td>True</td>\n",
       "      <td>False</td>\n",
       "      <td>False</td>\n",
       "      <td>False</td>\n",
       "      <td>False</td>\n",
       "      <td>False</td>\n",
       "      <td>False</td>\n",
       "      <td>False</td>\n",
       "      <td>False</td>\n",
       "      <td>True</td>\n",
       "    </tr>\n",
       "    <tr>\n",
       "      <th>1</th>\n",
       "      <td>0.166667</td>\n",
       "      <td>0</td>\n",
       "      <td>-1.234669</td>\n",
       "      <td>0.295828</td>\n",
       "      <td>-0.097911</td>\n",
       "      <td>0.974224</td>\n",
       "      <td>-1.481019</td>\n",
       "      <td>-0.854515</td>\n",
       "      <td>-0.165178</td>\n",
       "      <td>-0.512456</td>\n",
       "      <td>...</td>\n",
       "      <td>False</td>\n",
       "      <td>True</td>\n",
       "      <td>False</td>\n",
       "      <td>False</td>\n",
       "      <td>False</td>\n",
       "      <td>False</td>\n",
       "      <td>False</td>\n",
       "      <td>True</td>\n",
       "      <td>False</td>\n",
       "      <td>False</td>\n",
       "    </tr>\n",
       "    <tr>\n",
       "      <th>2</th>\n",
       "      <td>0.166667</td>\n",
       "      <td>1</td>\n",
       "      <td>0.809606</td>\n",
       "      <td>0.295828</td>\n",
       "      <td>-1.284347</td>\n",
       "      <td>0.360833</td>\n",
       "      <td>-1.142129</td>\n",
       "      <td>-0.580360</td>\n",
       "      <td>-0.432665</td>\n",
       "      <td>-0.918008</td>\n",
       "      <td>...</td>\n",
       "      <td>False</td>\n",
       "      <td>True</td>\n",
       "      <td>False</td>\n",
       "      <td>False</td>\n",
       "      <td>False</td>\n",
       "      <td>False</td>\n",
       "      <td>False</td>\n",
       "      <td>False</td>\n",
       "      <td>False</td>\n",
       "      <td>True</td>\n",
       "    </tr>\n",
       "    <tr>\n",
       "      <th>3</th>\n",
       "      <td>0.500000</td>\n",
       "      <td>1</td>\n",
       "      <td>-1.234669</td>\n",
       "      <td>0.295828</td>\n",
       "      <td>0.930334</td>\n",
       "      <td>-1.615648</td>\n",
       "      <td>0.933578</td>\n",
       "      <td>0.516260</td>\n",
       "      <td>-1.168254</td>\n",
       "      <td>-0.106904</td>\n",
       "      <td>...</td>\n",
       "      <td>False</td>\n",
       "      <td>False</td>\n",
       "      <td>False</td>\n",
       "      <td>False</td>\n",
       "      <td>False</td>\n",
       "      <td>False</td>\n",
       "      <td>False</td>\n",
       "      <td>True</td>\n",
       "      <td>False</td>\n",
       "      <td>False</td>\n",
       "    </tr>\n",
       "    <tr>\n",
       "      <th>4</th>\n",
       "      <td>1.000000</td>\n",
       "      <td>1</td>\n",
       "      <td>0.809606</td>\n",
       "      <td>0.295828</td>\n",
       "      <td>0.613951</td>\n",
       "      <td>-0.402498</td>\n",
       "      <td>1.060662</td>\n",
       "      <td>1.201647</td>\n",
       "      <td>-0.499536</td>\n",
       "      <td>-0.512456</td>\n",
       "      <td>...</td>\n",
       "      <td>False</td>\n",
       "      <td>True</td>\n",
       "      <td>False</td>\n",
       "      <td>False</td>\n",
       "      <td>False</td>\n",
       "      <td>False</td>\n",
       "      <td>False</td>\n",
       "      <td>False</td>\n",
       "      <td>False</td>\n",
       "      <td>True</td>\n",
       "    </tr>\n",
       "  </tbody>\n",
       "</table>\n",
       "<p>5 rows × 63 columns</p>\n",
       "</div>"
      ],
      "text/plain": [
       "       ohs6  treatment  pretrialexp     phase       age  randdelay   sbprand  \\\n",
       "0  0.333333          0    -1.234669  0.295828  1.246717  -1.656541  0.637048   \n",
       "1  0.166667          0    -1.234669  0.295828 -0.097911   0.974224 -1.481019   \n",
       "2  0.166667          1     0.809606  0.295828 -1.284347   0.360833 -1.142129   \n",
       "3  0.500000          1    -1.234669  0.295828  0.930334  -1.615648  0.933578   \n",
       "4  1.000000          1     0.809606  0.295828  0.613951  -0.402498  1.060662   \n",
       "\n",
       "    dbprand    weight   glucose  ...  visuospat_rand_Unknown  \\\n",
       "0  0.721876 -0.298921 -0.512456  ...                    True   \n",
       "1 -0.854515 -0.165178 -0.512456  ...                   False   \n",
       "2 -0.580360 -0.432665 -0.918008  ...                   False   \n",
       "3  0.516260 -1.168254 -0.106904  ...                   False   \n",
       "4  1.201647 -0.499536 -0.512456  ...                   False   \n",
       "\n",
       "   visuospat_rand_Yes  brainstemsigns_rand_Unknown  brainstemsigns_rand_Yes  \\\n",
       "0               False                        False                    False   \n",
       "1                True                        False                    False   \n",
       "2                True                        False                    False   \n",
       "3               False                        False                    False   \n",
       "4                True                        False                    False   \n",
       "\n",
       "   otherdeficit_rand_Unknown  otherdeficit_rand_Yes  stroketype_Other  \\\n",
       "0                      False                  False             False   \n",
       "1                      False                  False             False   \n",
       "2                      False                  False             False   \n",
       "3                      False                  False             False   \n",
       "4                      False                  False             False   \n",
       "\n",
       "   stroketype_PACI  stroketype_POCI  stroketype_TACI  \n",
       "0            False            False             True  \n",
       "1             True            False            False  \n",
       "2            False            False             True  \n",
       "3             True            False            False  \n",
       "4            False            False             True  \n",
       "\n",
       "[5 rows x 63 columns]"
      ]
     },
     "execution_count": 4,
     "metadata": {},
     "output_type": "execute_result"
    }
   ],
   "source": [
    "df.head()"
   ]
  },
  {
   "cell_type": "code",
   "execution_count": 5,
   "id": "8c88a0aa",
   "metadata": {},
   "outputs": [],
   "source": [
    "import pandas as pd\n",
    "\n",
    "context = df.drop(columns=['ohs6', 'treatment']).values.astype(float)\n",
    "action = df['treatment'].values.astype(float)\n",
    "reward = 1.0-df['ohs6'].values.astype(float)\n",
    "\n",
    "data_stream = list(zip(context, action, reward))"
   ]
  },
  {
   "cell_type": "code",
   "execution_count": 6,
   "id": "c12371eb",
   "metadata": {},
   "outputs": [],
   "source": [
    "lin_ucb_policy = LinUCB(context.shape[1], .5)"
   ]
  },
  {
   "cell_type": "code",
   "execution_count": 7,
   "id": "923d3073",
   "metadata": {},
   "outputs": [
    {
     "data": {
      "text/plain": [
       "array([0.36841366], dtype=float32)"
      ]
     },
     "execution_count": 7,
     "metadata": {},
     "output_type": "execute_result"
    }
   ],
   "source": [
    "import numpy as np\n",
    "import torch\n",
    "\n",
    "offline_placebo_model.predict(np.concatenate([[action[0]], context[0]]).reshape(1, -1))"
   ]
  },
  {
   "cell_type": "markdown",
   "id": "62bc3b75",
   "metadata": {},
   "source": [
    "# LinUCB\n",
    "\n",
    "As a baseline."
   ]
  },
  {
   "cell_type": "code",
   "execution_count": null,
   "id": "e8af8c6f",
   "metadata": {},
   "outputs": [],
   "source": [
    "# Main experimental loop\n",
    "possible_actions = [0, 1]\n",
    "results = {}\n",
    "for policy, policy_name in zip([lin_ucb_policy], ['LinUCB']):\n",
    "    cumulative_reward = 0\n",
    "    rewards = []\n",
    "    cumulative_rewards = []\n",
    "    regrets = []\n",
    "    actions = []\n",
    "    \n",
    "    for t, (context, true_action, true_reward) in enumerate(data_stream):\n",
    "        # Select action\n",
    "        action = policy.select_action(context, possible_actions)\n",
    "        \n",
    "        # Get reward (true or imputed)\n",
    "        if action == true_action:\n",
    "            reward = true_reward\n",
    "        else:\n",
    "            if action == 0: \n",
    "                reward = 1-offline_placebo_model.predict(np.concatenate([[action], context]).reshape(1, -1))\n",
    "            else:\n",
    "                reward = 1-offline_treatment_model.predict(np.concatenate([[action], context]).reshape(1, -1))\n",
    "        \n",
    "        # Ensure reward is a scalar\n",
    "        if isinstance(reward, torch.Tensor):\n",
    "            reward_scalar = reward.item()\n",
    "        elif isinstance(reward, np.ndarray):\n",
    "            reward_scalar = float(reward.squeeze())\n",
    "        else:\n",
    "            reward_scalar = reward\n",
    "\n",
    "        # Update policy\n",
    "        policy.update(context, action, reward)\n",
    "        \n",
    "        # Track reward\n",
    "        rewards.append(reward_scalar)\n",
    "        cumulative_reward += reward_scalar\n",
    "        cumulative_rewards.append(cumulative_reward)\n",
    "        \n",
    "        # Regret: difference between best possible reward and received reward\n",
    "        # Here, true_reward is the reward for the action that was actually taken in the data (the \"best\" action)\n",
    "        # If you have access to the true rewards for both actions, you could use max(true_reward_0, true_reward_1)\n",
    "        # For now, we assume true_reward is the best possible reward for this context\n",
    "        regret = true_reward - reward_scalar\n",
    "        regrets.append(regret)\n",
    "        actions.append(action)\n",
    "        \n",
    "    results[policy_name] = {\n",
    "        \"cumulative_reward\": cumulative_reward,\n",
    "        \"cumulative_rewards\": cumulative_rewards,\n",
    "        \"regrets\": regrets,\n",
    "        \"actions\": actions\n",
    "    }"
   ]
  },
  {
   "cell_type": "code",
   "execution_count": null,
   "id": "a27937a1",
   "metadata": {},
   "outputs": [
    {
     "data": {
      "image/png": "[encoded data removed]",
      "text/plain": [
       "<Figure size 640x480 with 1 Axes>"
      ]
     },
     "metadata": {},
     "output_type": "display_data"
    }
   ],
   "source": [
    "import matplotlib.pyplot as plt\n",
    "\n",
    "plt.plot(results['LinUCB']['cumulative_rewards'])\n",
    "plt.show()"
   ]
  },
  {
   "cell_type": "code",
   "execution_count": null,
   "id": "fe0ced4a",
   "metadata": {},
   "outputs": [
    {
     "data": {
      "text/plain": [
       "(array([   0.,    0.,    0.,    0.,    0., 2472.,    0.,    0.,    0.,\n",
       "           0.]),\n",
       " array([-0.5, -0.4, -0.3, -0.2, -0.1,  0. ,  0.1,  0.2,  0.3,  0.4,  0.5]),\n",
       " <BarContainer object of 10 artists>)"
      ]
     },
     "execution_count": 37,
     "metadata": {},
     "output_type": "execute_result"
    },
    {
     "data": {
      "image/png": "[encoded data removed]",
      "text/plain": [
       "<Figure size 640x480 with 1 Axes>"
      ]
     },
     "metadata": {},
     "output_type": "display_data"
    }
   ],
   "source": [
    "plt.hist(actions)"
   ]
  },
  {
   "cell_type": "code",
   "execution_count": null,
   "id": "6590a5ac",
   "metadata": {},
   "outputs": [],
   "source": []
  }
 ],
 "metadata": {
  "kernelspec": {
   "display_name": "astro",
   "language": "python",
   "name": "python3"
  },
  "language_info": {
   "codemirror_mode": {
    "name": "ipython",
    "version": 3
   },
   "file_extension": ".py",
   "mimetype": "text/x-python",
   "name": "python",
   "nbconvert_exporter": "python",
   "pygments_lexer": "ipython3",
   "version": "3.11.12"
  }
 },
 "nbformat": 4,
 "nbformat_minor": 5
}
