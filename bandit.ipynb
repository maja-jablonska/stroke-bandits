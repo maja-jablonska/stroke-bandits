{
 "cells": [
  {
   "cell_type": "code",
   "execution_count": 5,
   "id": "4b89820b",
   "metadata": {},
   "outputs": [],
   "source": [
    "from ucb import LinUCB\n",
    "from scripts import evaluate_policy, model\n",
    "from oracle import LinearOracle, OnlineRandomForestOracle, NeuralOracle, GPOracle, AdaptiveOracle\n",
    "from ucb import NeuralUCB, NeuralTS, LinUCB\n",
    "import torch"
   ]
  },
  {
   "cell_type": "code",
   "execution_count": 6,
   "id": "e1922389",
   "metadata": {},
   "outputs": [],
   "source": [
    "import torch\n",
    "import torch.nn as nn\n",
    "\n",
    "class FCNN(nn.Module):\n",
    "    def __init__(self, input_dim, hidden_dim=512, output_dim=2, dropout_prob=0.25):\n",
    "        super(FCNN, self).__init__()\n",
    "        self.net = nn.Sequential(\n",
    "            nn.Linear(input_dim, hidden_dim),\n",
    "            nn.BatchNorm1d(hidden_dim),\n",
    "            nn.GELU(),\n",
    "            nn.Dropout(dropout_prob),\n",
    "            nn.Linear(hidden_dim, hidden_dim),\n",
    "            nn.BatchNorm1d(hidden_dim),\n",
    "            nn.GELU(),\n",
    "            nn.Dropout(dropout_prob),\n",
    "            nn.Linear(hidden_dim, hidden_dim),\n",
    "            nn.BatchNorm1d(hidden_dim),\n",
    "            nn.GELU(),\n",
    "            nn.Dropout(dropout_prob),\n",
    "            nn.Linear(hidden_dim, output_dim)\n",
    "        )\n",
    "    def forward(self, x):\n",
    "        return self.net(x)"
   ]
  },
  {
   "cell_type": "code",
   "execution_count": 15,
   "id": "7b674ef6",
   "metadata": {},
   "outputs": [],
   "source": [
    "import pandas as pd\n",
    "import pickle\n",
    "\n",
    "offline_model = pickle.load(open('fcnn_model.pkl', 'rb'))\n",
    "\n",
    "df = pd.read_csv('data/stroke_data_2000.csv')"
   ]
  },
  {
   "cell_type": "code",
   "execution_count": 16,
   "id": "8c88a0aa",
   "metadata": {},
   "outputs": [],
   "source": [
    "import pandas as pd\n",
    "df = pd.read_csv('data/stroke_data_2000.csv')\n",
    "\n",
    "context = df.drop(columns=['ohs6', 'itt_treat']).values\n",
    "action = df['itt_treat'].values\n",
    "reward = df['ohs6'].values\n",
    "\n",
    "context = torch.tensor(context.astype(float))\n",
    "action = torch.tensor(action.astype(float))\n",
    "reward = torch.tensor(reward.astype(float))\n",
    "\n",
    "data_stream = list(zip(context, action, reward))"
   ]
  },
  {
   "cell_type": "code",
   "execution_count": 17,
   "id": "c12371eb",
   "metadata": {},
   "outputs": [],
   "source": [
    "lin_ucb_policy = LinUCB(context.shape[1], 1.0)"
   ]
  },
  {
   "cell_type": "code",
   "execution_count": 19,
   "id": "923d3073",
   "metadata": {},
   "outputs": [
    {
     "data": {
      "text/plain": [
       "tensor([[nan, nan, nan, nan, nan, nan, nan]], grad_fn=<AddmmBackward0>)"
      ]
     },
     "execution_count": 19,
     "metadata": {},
     "output_type": "execute_result"
    }
   ],
   "source": [
    "import numpy as np\n",
    "import torch\n",
    "\n",
    "offline_model(torch.tensor(np.concatenate([context[0], [1.]]).astype(float), dtype=torch.float32).view(1, -1))\n",
    "\n",
    "offline_model(torch.tensor(np.concatenate([context[0], [0.]]).astype(float), dtype=torch.float32).view(1, -1))"
   ]
  },
  {
   "cell_type": "code",
   "execution_count": 29,
   "id": "d055fad4",
   "metadata": {},
   "outputs": [
    {
     "ename": "RuntimeError",
     "evalue": "The size of tensor a (56) must match the size of tensor b (2) at non-singleton dimension 1",
     "output_type": "error",
     "traceback": [
      "\u001b[31m---------------------------------------------------------------------------\u001b[39m",
      "\u001b[31mRuntimeError\u001b[39m                              Traceback (most recent call last)",
      "\u001b[36mCell\u001b[39m\u001b[36m \u001b[39m\u001b[32mIn[29]\u001b[39m\u001b[32m, line 19\u001b[39m\n\u001b[32m     16\u001b[39m         reward = offline_model(torch.tensor(np.concatenate([context, [action]]).astype(\u001b[38;5;28mfloat\u001b[39m), dtype=torch.float32).view(\u001b[32m1\u001b[39m, -\u001b[32m1\u001b[39m))\n\u001b[32m     18\u001b[39m     \u001b[38;5;66;03m# Update policy\u001b[39;00m\n\u001b[32m---> \u001b[39m\u001b[32m19\u001b[39m     \u001b[43mpolicy\u001b[49m\u001b[43m.\u001b[49m\u001b[43mupdate\u001b[49m\u001b[43m(\u001b[49m\u001b[43mcontext\u001b[49m\u001b[43m,\u001b[49m\u001b[43m \u001b[49m\u001b[43maction\u001b[49m\u001b[43m,\u001b[49m\u001b[43m \u001b[49m\u001b[43mreward\u001b[49m\u001b[43m)\u001b[49m\n\u001b[32m     20\u001b[39m     cumulative_reward += reward\n\u001b[32m     22\u001b[39m results[(oracle, policy)] = cumulative_reward\n",
      "\u001b[36mFile \u001b[39m\u001b[32m~/Documents/strokes/ucb/lin_ucb.py:59\u001b[39m, in \u001b[36mLinUCB.update\u001b[39m\u001b[34m(self, context, action, reward)\u001b[39m\n\u001b[32m     57\u001b[39m \u001b[38;5;66;03m# Update sufficient statistics\u001b[39;00m\n\u001b[32m     58\u001b[39m \u001b[38;5;28mself\u001b[39m.A[action] += np.outer(context, context)\n\u001b[32m---> \u001b[39m\u001b[32m59\u001b[39m \u001b[38;5;28mself\u001b[39m.b[action] += \u001b[43mcontext\u001b[49m\u001b[43m \u001b[49m\u001b[43m*\u001b[49m\u001b[43m \u001b[49m\u001b[43mreward\u001b[49m\n\u001b[32m     61\u001b[39m \u001b[38;5;66;03m# Update model parameters (could be lazy/cached)\u001b[39;00m\n\u001b[32m     62\u001b[39m A_inv = np.linalg.inv(\u001b[38;5;28mself\u001b[39m.A[action])\n",
      "\u001b[31mRuntimeError\u001b[39m: The size of tensor a (56) must match the size of tensor b (2) at non-singleton dimension 1"
     ]
    }
   ],
   "source": [
    "# Main experimental loop\n",
    "possible_actions = [0, 1]\n",
    "results = {}\n",
    "for oracle in [LinearOracle, OnlineRandomForestOracle, NeuralOracle, GPOracle]:\n",
    "    for policy in [lin_ucb_policy]:\n",
    "        cumulative_reward = 0\n",
    "        \n",
    "        for t, (context, true_action, true_reward) in enumerate(data_stream):\n",
    "            # Select action\n",
    "            action = policy.select_action(context, possible_actions)\n",
    "            \n",
    "            # Get reward (true or imputed)\n",
    "            if action == true_action:\n",
    "                reward = true_reward\n",
    "            else:\n",
    "                reward = offline_model(torch.tensor(np.concatenate([context, [action]]).astype(float), dtype=torch.float32).view(1, -1))\n",
    "            \n",
    "            # Update policy\n",
    "            policy.update(context, action, reward)\n",
    "            cumulative_reward += reward\n",
    "            \n",
    "        results[(oracle, policy)] = cumulative_reward"
   ]
  },
  {
   "cell_type": "code",
   "execution_count": 30,
   "id": "44a40f02",
   "metadata": {},
   "outputs": [
    {
     "data": {
      "text/plain": [
       "tensor([[nan, nan]], grad_fn=<AddmmBackward0>)"
      ]
     },
     "execution_count": 30,
     "metadata": {},
     "output_type": "execute_result"
    }
   ],
   "source": [
    "reward"
   ]
  },
  {
   "cell_type": "code",
   "execution_count": null,
   "id": "760adb67",
   "metadata": {},
   "outputs": [],
   "source": []
  }
 ],
 "metadata": {
  "kernelspec": {
   "display_name": "astro",
   "language": "python",
   "name": "python3"
  },
  "language_info": {
   "codemirror_mode": {
    "name": "ipython",
    "version": 3
   },
   "file_extension": ".py",
   "mimetype": "text/x-python",
   "name": "python",
   "nbconvert_exporter": "python",
   "pygments_lexer": "ipython3",
   "version": "3.11.12"
  }
 },
 "nbformat": 4,
 "nbformat_minor": 5
}
