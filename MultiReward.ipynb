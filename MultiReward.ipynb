{
 "cells": [
  {
   "cell_type": "code",
   "execution_count": 2,
   "id": "4d0b8051",
   "metadata": {},
   "outputs": [],
   "source": [
    "import pandas as pd\n",
    "import numpy as np\n",
    "import matplotlib.pyplot as plt"
   ]
  },
  {
   "cell_type": "code",
   "execution_count": null,
   "id": "11a47b43",
   "metadata": {},
   "outputs": [],
   "source": [
    "df = pd.read_sas('data.sas7bdat')\n",
    "# decode all object columns that are bytes to strings\n",
    "for col in df.select_dtypes(include=['object']).columns:\n",
    "    if df[col].apply(lambda x: isinstance(x, bytes)).any():\n",
    "        df[col] = df[col].apply(lambda x: x.decode('utf-8') if isinstance(x, bytes) else x)\n",
    "\n",
    "# Keep only the rows where deathcode is NaN, e1 (cerebrovascular) or e3 (cardiovascular)\n",
    "df = df[df['deathcode'].isna() | (df['deathcode'] == 'E1') | (df['deathcode'] == 'E3')]\n"
   ]
  }
 ],
 "metadata": {
  "kernelspec": {
   "display_name": "xgb-arm",
   "language": "python",
   "name": "python3"
  },
  "language_info": {
   "codemirror_mode": {
    "name": "ipython",
    "version": 3
   },
   "file_extension": ".py",
   "mimetype": "text/x-python",
   "name": "python",
   "nbconvert_exporter": "python",
   "pygments_lexer": "ipython3",
   "version": "3.10.18"
  }
 },
 "nbformat": 4,
 "nbformat_minor": 5
}
