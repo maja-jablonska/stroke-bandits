{
 "cells": [
  {
   "cell_type": "code",
   "execution_count": 14,
   "id": "4d0b8051",
   "metadata": {},
   "outputs": [],
   "source": [
    "import pandas as pd\n",
    "import numpy as np\n",
    "import matplotlib.pyplot as plt"
   ]
  },
  {
   "cell_type": "code",
   "execution_count": 15,
   "id": "11a47b43",
   "metadata": {},
   "outputs": [],
   "source": [
    "df = pd.read_csv('/Users/amanda/Desktop/PhD/Conferences/BostonIAIFI2025/Treatment/stroke_bandits/action_reward_context_combined_processed.csv')"
   ]
  },
  {
   "cell_type": "markdown",
   "id": "00ab9915",
   "metadata": {},
   "source": [
    "# Use XGBoost to allow for missing data"
   ]
  },
  {
   "cell_type": "code",
   "execution_count": 16,
   "id": "5dd5849e",
   "metadata": {},
   "outputs": [],
   "source": [
    "from sklearn.model_selection import train_test_split\n",
    "from sklearn.pipeline import Pipeline\n",
    "from sklearn.compose import ColumnTransformer\n",
    "from sklearn.impute import SimpleImputer\n",
    "from sklearn.preprocessing import OneHotEncoder\n",
    "from sklearn.metrics import mean_squared_error, r2_score, accuracy_score\n",
    "import xgboost as xgb\n"
   ]
  },
  {
   "cell_type": "code",
   "execution_count": 27,
   "id": "89c96e8b",
   "metadata": {},
   "outputs": [
    {
     "name": "stdout",
     "output_type": "stream",
     "text": [
      "RMSE: 0.278\n",
      "R²:   0.352\n",
      "Accuracy within ±2 OHS6 point: 1.000\n"
     ]
    },
    {
     "data": {
      "text/plain": [
       "['xgb_ohs6_predictor.pkl']"
      ]
     },
     "execution_count": 27,
     "metadata": {},
     "output_type": "execute_result"
    }
   ],
   "source": [
    "# Drop rows with no target\n",
    "#df = df[df[target].notna()]\n",
    "\n",
    "\n",
    "# ================================\n",
    "# Split data into train and test\n",
    "# ================================\n",
    "X = df.drop(columns=['ohs6'])\n",
    "y = df['ohs6']\n",
    "\n",
    "X_train, X_test, y_train, y_test = train_test_split(\n",
    "    X, y, test_size=0.2, random_state=42\n",
    ")\n",
    "\n",
    "\n",
    "# ================================\n",
    "# Full model pipeline\n",
    "# ================================\n",
    "model = xgb.XGBRegressor(\n",
    "        tree_method='hist',\n",
    "        objective='reg:squarederror',\n",
    "        n_estimators=200,\n",
    "        max_depth=6,\n",
    "        learning_rate=0.1,\n",
    "        subsample=0.8,\n",
    "        colsample_bytree=0.8,\n",
    "        missing=np.nan,\n",
    "        random_state=42\n",
    "    )\n",
    "\n",
    "# ================================\n",
    "# Train the model\n",
    "# ================================\n",
    "model.fit(X_train, y_train)\n",
    "\n",
    "# ================================\n",
    "# Evaluate the model\n",
    "# ================================\n",
    "y_pred = model.predict(X_test)\n",
    "rmse = np.sqrt(mean_squared_error(y_test, y_pred))\n",
    "r2 = r2_score(y_test, y_pred)\n",
    "\n",
    "print(f\"RMSE: {rmse:.3f}\")\n",
    "print(f\"R²:   {r2:.3f}\")\n",
    "#accuracy = accuracy_score(y_test, np.round(y_pred))\n",
    "#print(f\"Accuracy: {accuracy}\")\n",
    "\n",
    "y_pred_rounded = np.round(y_pred)\n",
    "\n",
    "# Ensure both arrays are integers\n",
    "y_pred_rounded = y_pred_rounded.astype(int)\n",
    "y_test_int = y_test.astype(int)\n",
    "\n",
    "# Compute boolean mask where the prediction is within ±2 of the true value\n",
    "within_2 = np.abs(y_pred_rounded - y_test_int) <= 1\n",
    "\n",
    "# Compute accuracy\n",
    "accuracy_within_2 = np.mean(within_2)\n",
    "print(f\"Accuracy within ±2 OHS6 point: {accuracy_within_2:.3f}\")\n",
    "\n",
    "# ================================\n",
    "# Save the trained model (optional)\n",
    "# ================================\n",
    "import joblib\n",
    "joblib.dump(model, \"xgb_ohs6_predictor.pkl\")\n",
    "\n",
    "# Later usage:\n",
    "# model = joblib.load(\"xgb_ohs6_predictor.pkl\")\n",
    "# y_new = model.predict(new_data[features])"
   ]
  },
  {
   "cell_type": "code",
   "execution_count": 32,
   "id": "e4e7f2e0",
   "metadata": {},
   "outputs": [
    {
     "data": {
      "text/plain": [
       "(array([ 47.,  92.,   0.,  64.,   0.,  72.,  41.,   0.,  72., 107.]),\n",
       " array([0. , 0.1, 0.2, 0.3, 0.4, 0.5, 0.6, 0.7, 0.8, 0.9, 1. ]),\n",
       " <BarContainer object of 10 artists>)"
      ]
     },
     "execution_count": 32,
     "metadata": {},
     "output_type": "execute_result"
    },
    {
     "data": {
      "image/png": "[encoded data removed]",
      "text/plain": [
       "<Figure size 640x480 with 1 Axes>"
      ]
     },
     "metadata": {},
     "output_type": "display_data"
    }
   ],
   "source": [
    "plt.hist(y_test)"
   ]
  },
  {
   "cell_type": "code",
   "execution_count": 28,
   "id": "1679e97a",
   "metadata": {},
   "outputs": [],
   "source": [
    "import matplotlib.pyplot as plt\n",
    "import seaborn as sns\n",
    "from sklearn.metrics import mean_squared_error, r2_score\n",
    "\n",
    "# Predict\n",
    "y_pred = model.predict(X_test)\n",
    "\n",
    "# Residuals\n",
    "residuals = y_test - y_pred\n",
    "errors = np.abs(residuals)\n"
   ]
  },
  {
   "cell_type": "code",
   "execution_count": 29,
   "id": "7e3a11fe",
   "metadata": {},
   "outputs": [
    {
     "data": {
      "text/plain": [
       "(array([241.,   0.,   0.,   0., 411.,   0.,   0.,   0.,   0.,   0., 368.,\n",
       "          0.,   0.,   0.,   0., 370.,   0.,   0.,   0.,   0., 213.,   0.,\n",
       "          0.,   0.,   0., 309.,   0.,   0.,   0., 560.]),\n",
       " array([0.        , 0.03333333, 0.06666667, 0.1       , 0.13333333,\n",
       "        0.16666667, 0.2       , 0.23333333, 0.26666667, 0.3       ,\n",
       "        0.33333333, 0.36666667, 0.4       , 0.43333333, 0.46666667,\n",
       "        0.5       , 0.53333333, 0.56666667, 0.6       , 0.63333333,\n",
       "        0.66666667, 0.7       , 0.73333333, 0.76666667, 0.8       ,\n",
       "        0.83333333, 0.86666667, 0.9       , 0.93333333, 0.96666667,\n",
       "        1.        ]),\n",
       " <BarContainer object of 30 artists>)"
      ]
     },
     "execution_count": 29,
     "metadata": {},
     "output_type": "execute_result"
    },
    {
     "data": {
      "image/png": "[encoded data removed]",
      "text/plain": [
       "<Figure size 640x480 with 1 Axes>"
      ]
     },
     "metadata": {},
     "output_type": "display_data"
    }
   ],
   "source": [
    "plt.hist(df['ohs6'], bins = 30)"
   ]
  },
  {
   "cell_type": "code",
   "execution_count": 30,
   "id": "5b971acc",
   "metadata": {},
   "outputs": [
    {
     "data": {
      "text/plain": [
       "array([0.])"
      ]
     },
     "execution_count": 30,
     "metadata": {},
     "output_type": "execute_result"
    }
   ],
   "source": [
    "df['ohs6'][df['ohs6'] == 0].unique()"
   ]
  },
  {
   "cell_type": "code",
   "execution_count": 31,
   "id": "ee74269c",
   "metadata": {},
   "outputs": [
    {
     "name": "stdout",
     "output_type": "stream",
     "text": [
      "[0, 0.16666667, 0.33333333, 0.5, 0.66666667, 0.83333333, 1] ['1', '2', '3', '4', '5', '6']\n"
     ]
    },
    {
     "data": {
      "text/plain": [
       "<Figure size 600x600 with 0 Axes>"
      ]
     },
     "metadata": {},
     "output_type": "display_data"
    },
    {
     "data": {
      "image/png": "[encoded data removed]",
      "text/plain": [
       "<Figure size 640x480 with 2 Axes>"
      ]
     },
     "metadata": {},
     "output_type": "display_data"
    }
   ],
   "source": [
    "import numpy as np\n",
    "import matplotlib.pyplot as plt\n",
    "from sklearn.metrics import confusion_matrix, ConfusionMatrixDisplay\n",
    "\n",
    "# --------------------------------------------\n",
    "# 1. BINNING STRATEGY\n",
    "# Option A: Custom bins (e.g. 0–6, based on OHS definition)\n",
    "bins = [0, 0.16666667, 0.33333333, 0.5, 0.66666667, 0.83333333, 1]\n",
    "\n",
    "labels = [f'{i}' for i in range(1, 7)]  # Labels for matrix\n",
    "print(bins, labels)\n",
    "# Option B: Quantile bins (data-driven)\n",
    "# quantiles = np.quantile(np.concatenate([y_test, y_pred]), q=np.linspace(0, 1, 6))\n",
    "# bins = sorted(set(quantiles))\n",
    "# labels = [f'Q{i}' for i in range(len(bins)-1)]\n",
    "\n",
    "# --------------------------------------------\n",
    "# 2. DISCRETIZE y_test and y_pred\n",
    "y_test_binned = np.digitize(y_test, bins=bins, right=False) - 1\n",
    "y_pred_binned = np.digitize(y_pred, bins=bins, right=False) - 1\n",
    "\n",
    "# Clip to valid range in case of out-of-bound values\n",
    "n_classes = len(labels)\n",
    "y_test_binned = np.clip(y_test_binned, 0, n_classes - 1)\n",
    "y_pred_binned = np.clip(y_pred_binned, 0, n_classes - 1)\n",
    "\n",
    "# --------------------------------------------\n",
    "# 3. COMPUTE CONFUSION MATRIX\n",
    "cm = confusion_matrix(y_test_binned, y_pred_binned, labels=range(n_classes))\n",
    "disp = ConfusionMatrixDisplay(confusion_matrix=cm, display_labels=labels)\n",
    "\n",
    "# --------------------------------------------\n",
    "# 4. PLOT\n",
    "plt.figure(figsize=(6, 6))\n",
    "disp.plot(cmap=plt.cm.Blues, values_format='d')\n",
    "plt.title(\"Confusion Matrix: Binned OHS6 Scores\")\n",
    "plt.xlabel(\"Predicted Bin\")\n",
    "plt.ylabel(\"True Bin\")\n",
    "plt.grid(False)\n",
    "plt.tight_layout()\n",
    "plt.show()"
   ]
  },
  {
   "cell_type": "markdown",
   "id": "70b291ac",
   "metadata": {},
   "source": [
    "# Only Deathcode"
   ]
  },
  {
   "cell_type": "code",
   "execution_count": null,
   "id": "128aed83",
   "metadata": {},
   "outputs": [
    {
     "name": "stdout",
     "output_type": "stream",
     "text": [
      "RMSE: 0.384\n",
      "R²:   0.293\n",
      "Accuracy: 0.7984031936127745\n"
     ]
    },
    {
     "data": {
      "text/plain": [
       "['xgb_deathcode_predictor.pkl']"
      ]
     },
     "execution_count": 11,
     "metadata": {},
     "output_type": "execute_result"
    }
   ],
   "source": [
    "# Drop rows with no target\n",
    "#df = df[df[target].notna()]\n",
    "\n",
    "\n",
    "# ================================\n",
    "# Split data into train and test\n",
    "# ================================\n",
    "X = df.drop(columns=['ohs6', 'deathcode'])\n",
    "y = df['deathcode']\n",
    "\n",
    "X_train, X_test, y_train, y_test = train_test_split(\n",
    "    X, y, test_size=0.2, random_state=42\n",
    ")\n",
    "\n",
    "\n",
    "# ================================\n",
    "# Full model pipeline\n",
    "# ================================\n",
    "model = xgb.XGBRegressor(\n",
    "        tree_method='hist',\n",
    "        objective='reg:squarederror',\n",
    "        n_estimators=200,\n",
    "        max_depth=6,\n",
    "        learning_rate=0.1,\n",
    "        subsample=0.8,\n",
    "        colsample_bytree=0.8,\n",
    "        missing=np.nan,\n",
    "        random_state=42\n",
    "    )\n",
    "\n",
    "# ================================\n",
    "# Train the model\n",
    "# ================================\n",
    "model.fit(X_train, y_train)\n",
    "\n",
    "# ================================\n",
    "# Evaluate the model\n",
    "# ================================\n",
    "y_pred = model.predict(X_test)\n",
    "rmse = np.sqrt(mean_squared_error(y_test, y_pred))\n",
    "r2 = r2_score(y_test, y_pred)\n",
    "\n",
    "print(f\"RMSE: {rmse:.3f}\")\n",
    "print(f\"R²:   {r2:.3f}\")\n",
    "accuracy = accuracy_score(y_test, np.round(y_pred))\n",
    "print(f\"Accuracy: {accuracy}\")\n",
    "\n",
    "# ================================\n",
    "# Save the trained model (optional)\n",
    "# ================================\n",
    "import joblib\n",
    "joblib.dump(model, \"xgb_deathcode_predictor.pkl\")\n",
    "\n",
    "# Later usage:\n",
    "#import joblib\n",
    "# model = joblib.load(\"xgb_deathcode_predictor.pkl\")\n",
    "# y_new = model.predict(new_data[features])"
   ]
  },
  {
   "cell_type": "code",
   "execution_count": 12,
   "id": "b433f2b9",
   "metadata": {},
   "outputs": [
    {
     "data": {
      "image/png": "[encoded data removed]",
      "text/plain": [
       "<Figure size 640x480 with 2 Axes>"
      ]
     },
     "metadata": {},
     "output_type": "display_data"
    },
    {
     "name": "stdout",
     "output_type": "stream",
     "text": [
      "Accuracy (rounded predictions): 0.798\n"
     ]
    }
   ],
   "source": [
    "import numpy as np\n",
    "import matplotlib.pyplot as plt\n",
    "from sklearn.metrics import confusion_matrix, ConfusionMatrixDisplay, accuracy_score\n",
    "\n",
    "# Round the predicted values to nearest integer for classification-like comparison\n",
    "y_pred_rounded = np.round(y_pred).astype(int)\n",
    "y_test_int = y_test.astype(int)\n",
    "\n",
    "# Generate the confusion matrix\n",
    "cm = confusion_matrix(y_test_int, y_pred_rounded)\n",
    "\n",
    "# Display it\n",
    "disp = ConfusionMatrixDisplay(confusion_matrix=cm, display_labels=np.unique(y_test_int))\n",
    "disp.plot(cmap=plt.cm.Blues)\n",
    "plt.title(\"Confusion Matrix (rounded predictions)\")\n",
    "plt.xlabel(\"Predicted\")\n",
    "plt.ylabel(\"Actual\")\n",
    "plt.show()\n",
    "\n",
    "# Optional: print accuracy again\n",
    "accuracy = accuracy_score(y_test_int, y_pred_rounded)\n",
    "print(f\"Accuracy (rounded predictions): {accuracy:.3f}\")"
   ]
  },
  {
   "cell_type": "code",
   "execution_count": 13,
   "id": "cc6d7522",
   "metadata": {},
   "outputs": [],
   "source": [
    "df.to_csv('processed_data.csv', index=False)"
   ]
  },
  {
   "cell_type": "code",
   "execution_count": null,
   "id": "db7bac3b",
   "metadata": {},
   "outputs": [],
   "source": []
  }
 ],
 "metadata": {
  "kernelspec": {
   "display_name": "xgb-arm",
   "language": "python",
   "name": "python3"
  },
  "language_info": {
   "codemirror_mode": {
    "name": "ipython",
    "version": 3
   },
   "file_extension": ".py",
   "mimetype": "text/x-python",
   "name": "python",
   "nbconvert_exporter": "python",
   "pygments_lexer": "ipython3",
   "version": "3.10.18"
  }
 },
 "nbformat": 4,
 "nbformat_minor": 5
}
