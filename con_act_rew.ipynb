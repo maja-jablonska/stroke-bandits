{
 "cells": [
  {
   "cell_type": "code",
   "execution_count": 2,
   "id": "aab48e60",
   "metadata": {},
   "outputs": [],
   "source": [
    "import pandas as pd\n",
    "import numpy as np\n",
    "import matplotlib.pyplot as plt\n",
    "\n",
    "from sklearn.impute import SimpleImputer"
   ]
  },
  {
   "cell_type": "code",
   "execution_count": 3,
   "id": "c0983892",
   "metadata": {},
   "outputs": [],
   "source": [
    "#import saas file:\n",
    "data_path = \"data.sas7bdat\"\n",
    "df = pd.read_sas(data_path, format='sas7bdat', encoding='utf-8')\n",
    "\n",
    "# decode all object columns that are bytes to strings\n",
    "for col in df.select_dtypes(include=['object']).columns:\n",
    "    if df[col].apply(lambda x: isinstance(x, bytes)).any():\n",
    "        df[col] = df[col].apply(lambda x: x.decode('utf-8') if isinstance(x, bytes) else x)"
   ]
  },
  {
   "cell_type": "markdown",
   "id": "41fd8bce",
   "metadata": {},
   "source": [
    "## Data Exploration and cleaning "
   ]
  },
  {
   "cell_type": "code",
   "execution_count": 4,
   "id": "abecc923",
   "metadata": {},
   "outputs": [
    {
     "data": {
      "text/html": [
       "<div>\n",
       "<style scoped>\n",
       "    .dataframe tbody tr th:only-of-type {\n",
       "        vertical-align: middle;\n",
       "    }\n",
       "\n",
       "    .dataframe tbody tr th {\n",
       "        vertical-align: top;\n",
       "    }\n",
       "\n",
       "    .dataframe thead th {\n",
       "        text-align: right;\n",
       "    }\n",
       "</style>\n",
       "<table border=\"1\" class=\"dataframe\">\n",
       "  <thead>\n",
       "    <tr style=\"text-align: right;\">\n",
       "      <th></th>\n",
       "      <th>randhosp_id</th>\n",
       "      <th>randpat_id</th>\n",
       "      <th>pretrialexp</th>\n",
       "      <th>country</th>\n",
       "      <th>trialphase</th>\n",
       "      <th>phase</th>\n",
       "      <th>itt_treat</th>\n",
       "      <th>age</th>\n",
       "      <th>gender</th>\n",
       "      <th>deathcode</th>\n",
       "      <th>...</th>\n",
       "      <th>censor18</th>\n",
       "      <th>surv18</th>\n",
       "      <th>plan18</th>\n",
       "      <th>UKextra</th>\n",
       "      <th>disab_unknown6</th>\n",
       "      <th>vital_and_disabunknown6</th>\n",
       "      <th>disab_unknown18</th>\n",
       "      <th>vital_and_disabunknown18</th>\n",
       "      <th>treatment</th>\n",
       "      <th>haltcode</th>\n",
       "    </tr>\n",
       "  </thead>\n",
       "  <tbody>\n",
       "    <tr>\n",
       "      <th>0</th>\n",
       "      <td>090</td>\n",
       "      <td>00001</td>\n",
       "      <td>2.0</td>\n",
       "      <td>UK</td>\n",
       "      <td>Open</td>\n",
       "      <td>2.0</td>\n",
       "      <td>0.0</td>\n",
       "      <td>81.0</td>\n",
       "      <td>1.0</td>\n",
       "      <td>E4</td>\n",
       "      <td>...</td>\n",
       "      <td>0.0</td>\n",
       "      <td>158.0</td>\n",
       "      <td>1.0</td>\n",
       "      <td>2.0</td>\n",
       "      <td>0.0</td>\n",
       "      <td>0.0</td>\n",
       "      <td>0.0</td>\n",
       "      <td>0.0</td>\n",
       "      <td>rt-PA</td>\n",
       "      <td>NaN</td>\n",
       "    </tr>\n",
       "    <tr>\n",
       "      <th>1</th>\n",
       "      <td>012</td>\n",
       "      <td>00002</td>\n",
       "      <td>1.0</td>\n",
       "      <td>SWEDEN</td>\n",
       "      <td>Open</td>\n",
       "      <td>2.0</td>\n",
       "      <td>1.0</td>\n",
       "      <td>92.0</td>\n",
       "      <td>1.0</td>\n",
       "      <td>NaN</td>\n",
       "      <td>...</td>\n",
       "      <td>1.0</td>\n",
       "      <td>548.0</td>\n",
       "      <td>1.0</td>\n",
       "      <td>2.0</td>\n",
       "      <td>0.0</td>\n",
       "      <td>0.0</td>\n",
       "      <td>0.0</td>\n",
       "      <td>0.0</td>\n",
       "      <td>Placebo</td>\n",
       "      <td>NaN</td>\n",
       "    </tr>\n",
       "    <tr>\n",
       "      <th>2</th>\n",
       "      <td>043</td>\n",
       "      <td>00003</td>\n",
       "      <td>1.0</td>\n",
       "      <td>POLAND</td>\n",
       "      <td>Open</td>\n",
       "      <td>2.0</td>\n",
       "      <td>1.0</td>\n",
       "      <td>75.0</td>\n",
       "      <td>1.0</td>\n",
       "      <td>NaN</td>\n",
       "      <td>...</td>\n",
       "      <td>1.0</td>\n",
       "      <td>548.0</td>\n",
       "      <td>1.0</td>\n",
       "      <td>2.0</td>\n",
       "      <td>0.0</td>\n",
       "      <td>0.0</td>\n",
       "      <td>0.0</td>\n",
       "      <td>0.0</td>\n",
       "      <td>Placebo</td>\n",
       "      <td>NaN</td>\n",
       "    </tr>\n",
       "    <tr>\n",
       "      <th>3</th>\n",
       "      <td>077</td>\n",
       "      <td>00004</td>\n",
       "      <td>2.0</td>\n",
       "      <td>UK</td>\n",
       "      <td>Open</td>\n",
       "      <td>2.0</td>\n",
       "      <td>0.0</td>\n",
       "      <td>60.0</td>\n",
       "      <td>1.0</td>\n",
       "      <td>NaN</td>\n",
       "      <td>...</td>\n",
       "      <td>1.0</td>\n",
       "      <td>548.0</td>\n",
       "      <td>1.0</td>\n",
       "      <td>2.0</td>\n",
       "      <td>0.0</td>\n",
       "      <td>0.0</td>\n",
       "      <td>0.0</td>\n",
       "      <td>0.0</td>\n",
       "      <td>rt-PA</td>\n",
       "      <td>I63</td>\n",
       "    </tr>\n",
       "    <tr>\n",
       "      <th>4</th>\n",
       "      <td>043</td>\n",
       "      <td>00005</td>\n",
       "      <td>1.0</td>\n",
       "      <td>POLAND</td>\n",
       "      <td>Open</td>\n",
       "      <td>2.0</td>\n",
       "      <td>0.0</td>\n",
       "      <td>88.0</td>\n",
       "      <td>1.0</td>\n",
       "      <td>NaN</td>\n",
       "      <td>...</td>\n",
       "      <td>NaN</td>\n",
       "      <td>NaN</td>\n",
       "      <td>2.0</td>\n",
       "      <td>2.0</td>\n",
       "      <td>0.0</td>\n",
       "      <td>0.0</td>\n",
       "      <td>NaN</td>\n",
       "      <td>NaN</td>\n",
       "      <td>rt-PA</td>\n",
       "      <td>NaN</td>\n",
       "    </tr>\n",
       "  </tbody>\n",
       "</table>\n",
       "<p>5 rows × 266 columns</p>\n",
       "</div>"
      ],
      "text/plain": [
       "  randhosp_id randpat_id  pretrialexp country trialphase  phase  itt_treat  \\\n",
       "0         090      00001          2.0      UK       Open    2.0        0.0   \n",
       "1         012      00002          1.0  SWEDEN       Open    2.0        1.0   \n",
       "2         043      00003          1.0  POLAND       Open    2.0        1.0   \n",
       "3         077      00004          2.0      UK       Open    2.0        0.0   \n",
       "4         043      00005          1.0  POLAND       Open    2.0        0.0   \n",
       "\n",
       "    age  gender deathcode  ...  censor18  surv18  plan18  UKextra  \\\n",
       "0  81.0     1.0        E4  ...       0.0   158.0     1.0      2.0   \n",
       "1  92.0     1.0       NaN  ...       1.0   548.0     1.0      2.0   \n",
       "2  75.0     1.0       NaN  ...       1.0   548.0     1.0      2.0   \n",
       "3  60.0     1.0       NaN  ...       1.0   548.0     1.0      2.0   \n",
       "4  88.0     1.0       NaN  ...       NaN     NaN     2.0      2.0   \n",
       "\n",
       "   disab_unknown6  vital_and_disabunknown6  disab_unknown18  \\\n",
       "0             0.0                      0.0              0.0   \n",
       "1             0.0                      0.0              0.0   \n",
       "2             0.0                      0.0              0.0   \n",
       "3             0.0                      0.0              0.0   \n",
       "4             0.0                      0.0              NaN   \n",
       "\n",
       "   vital_and_disabunknown18  treatment  haltcode  \n",
       "0                       0.0      rt-PA       NaN  \n",
       "1                       0.0    Placebo       NaN  \n",
       "2                       0.0    Placebo       NaN  \n",
       "3                       0.0      rt-PA       I63  \n",
       "4                       NaN      rt-PA       NaN  \n",
       "\n",
       "[5 rows x 266 columns]"
      ]
     },
     "execution_count": 4,
     "metadata": {},
     "output_type": "execute_result"
    }
   ],
   "source": [
    "df.head()"
   ]
  },
  {
   "cell_type": "code",
   "execution_count": 5,
   "id": "3f0c1695",
   "metadata": {},
   "outputs": [
    {
     "name": "stdout",
     "output_type": "stream",
     "text": [
      "Number of rows: 3035\n",
      "Number of features: 266\n"
     ]
    }
   ],
   "source": [
    "print(\"Number of rows:\", df.shape[0])\n",
    "print(\"Number of features:\", df.shape[1])"
   ]
  },
  {
   "cell_type": "code",
   "execution_count": 6,
   "id": "6caa18fe",
   "metadata": {},
   "outputs": [
    {
     "data": {
      "text/plain": [
       "deathcode\n",
       "E1    536\n",
       "E4    307\n",
       "E3    194\n",
       "E8     79\n",
       "E9     77\n",
       "E2     47\n",
       "E7     21\n",
       "Name: count, dtype: int64"
      ]
     },
     "execution_count": 6,
     "metadata": {},
     "output_type": "execute_result"
    }
   ],
   "source": [
    "df['deathcode'].value_counts()"
   ]
  },
  {
   "cell_type": "code",
   "execution_count": 7,
   "id": "49a4619c",
   "metadata": {},
   "outputs": [],
   "source": [
    "# Keep only the rows where deathcode is NaN, e1 (cerebrovascular) or e3 (cardiovascular)\n",
    "df = df[df['deathcode'].isna() | (df['deathcode'] == 'E1') | (df['deathcode'] == 'E3')]\n",
    "df['deathcode'] = (~df['deathcode'].isna()).astype(bool)"
   ]
  },
  {
   "cell_type": "markdown",
   "id": "79196062",
   "metadata": {},
   "source": [
    "Choose the rows with no randomisation violation"
   ]
  },
  {
   "cell_type": "code",
   "execution_count": 8,
   "id": "548e9bca",
   "metadata": {},
   "outputs": [
    {
     "data": {
      "text/plain": [
       "randvioltype\n",
       "Not independent in ADL                 15\n",
       "Pre-randomisation low dose heparin     15\n",
       "Haemorrhage on R scan                   1\n",
       "Advanced ischaemic change on R scan     1\n",
       "Name: count, dtype: int64"
      ]
     },
     "execution_count": 8,
     "metadata": {},
     "output_type": "execute_result"
    }
   ],
   "source": [
    "df['randvioltype'].value_counts()"
   ]
  },
  {
   "cell_type": "code",
   "execution_count": 9,
   "id": "7f89a497",
   "metadata": {},
   "outputs": [],
   "source": [
    "df = df[df['randvioltype'].isna()]"
   ]
  },
  {
   "cell_type": "markdown",
   "id": "ddbdc69a",
   "metadata": {},
   "source": [
    "Examine other missing values:"
   ]
  },
  {
   "cell_type": "code",
   "execution_count": 10,
   "id": "843f05cf",
   "metadata": {},
   "outputs": [
    {
     "name": "stdout",
     "output_type": "stream",
     "text": [
      "Columns with more than 50% missing values: 37\n",
      "\n",
      "\n",
      "deathdate_unknown: 1711 missing values\n",
      "randvioltype: 2472 missing values\n",
      "haem_type7: 2472 missing values\n",
      "nonstroke_type7: 2431 missing values\n",
      "final_status: 1805 missing values\n",
      "euroqol18: 1244 missing values\n",
      "yrfu_code: 1974 missing values\n",
      "waiver_code: 2443 missing values\n",
      "extracranial_bleed_site: 2452 missing values\n",
      "other_effect_code: 2363 missing values\n",
      "nostartcode: 2438 missing values\n",
      "event_days: 2224 missing values\n",
      "hypodeg: 1499 missing values\n",
      "hypodegsite: 1499 missing values\n",
      "mca: 1499 missing values\n",
      "affmca: 1572 missing values\n",
      "aspcau: 1572 missing values\n",
      "asplen: 1572 missing values\n",
      "aspins: 1572 missing values\n",
      "aspint: 1572 missing values\n",
      "aspm1: 1572 missing values\n",
      "aspm2: 1572 missing values\n",
      "aspm3: 1572 missing values\n",
      "aspm4: 1572 missing values\n",
      "aspm5: 1572 missing values\n",
      "aspm6: 1572 missing values\n",
      "oial: 1499 missing values\n",
      "aca: 2101 missing values\n",
      "pca: 2101 missing values\n",
      "subinf: 2101 missing values\n",
      "cbzinf: 2101 missing values\n",
      "cinf: 2101 missing values\n",
      "stem: 2101 missing values\n",
      "tisswell: 1499 missing values\n",
      "seclesion: 1488 missing values\n",
      "time_to_PH: 2338 missing values\n",
      "haltcode: 2392 missing values\n"
     ]
    }
   ],
   "source": [
    "cols_many_missing = df.columns[df.isnull().mean() > 0.5]\n",
    "\n",
    "print(\"Columns with more than 50% missing values:\", len(cols_many_missing.tolist()))\n",
    "print(\"\\n\")\n",
    "for col in df.columns:\n",
    "    if col in cols_many_missing:\n",
    "        print(f\"{col}: {df[col].isnull().sum()} missing values\")"
   ]
  },
  {
   "cell_type": "markdown",
   "id": "500d6bea",
   "metadata": {},
   "source": [
    "## Define action, context, and reward:\n",
    "\n",
    "### Action"
   ]
  },
  {
   "cell_type": "code",
   "execution_count": 11,
   "id": "96173251",
   "metadata": {},
   "outputs": [
    {
     "name": "stdout",
     "output_type": "stream",
     "text": [
      "Number of missing values in action 'treatment': 0\n"
     ]
    }
   ],
   "source": [
    "action_cols = ['treatment']\n",
    "actions = df[action_cols]\n",
    "\n",
    "#check na\n",
    "print(\"Number of missing values in action 'treatment':\", actions.isnull().sum().item())"
   ]
  },
  {
   "cell_type": "markdown",
   "id": "7044b541",
   "metadata": {},
   "source": [
    "### Reward"
   ]
  },
  {
   "cell_type": "code",
   "execution_count": 12,
   "id": "310fc0f9",
   "metadata": {},
   "outputs": [
    {
     "name": "stdout",
     "output_type": "stream",
     "text": [
      "Number of missing values in reward: 0\n"
     ]
    }
   ],
   "source": [
    "# columns relating to death\n",
    "reward_cols = ['ohs6']\n",
    "rewards = df[reward_cols]\n",
    "\n",
    "#check na\n",
    "print(\"Number of missing values in reward:\", rewards.isnull().sum().item())"
   ]
  },
  {
   "cell_type": "markdown",
   "id": "17f6f1f9",
   "metadata": {},
   "source": [
    "### Context:"
   ]
  },
  {
   "cell_type": "code",
   "execution_count": 13,
   "id": "8b071979",
   "metadata": {},
   "outputs": [],
   "source": [
    "initial_info_columns = [\n",
    "  \"randhosp_id\",\n",
    "  \"randpat_id\",\n",
    "  \"pretrialexp\",\n",
    "  \"country\",\n",
    "  \"trialphase\",\n",
    "  \"phase\",\n",
    "  \"itt_treat\",\n",
    "  \"age\",\n",
    "  \"gender\",\n",
    "  \"randyear\",\n",
    "  \"randmonth\",\n",
    "  \"randhour\",\n",
    "  \"randmin\",\n",
    "  \"randdelay\"\n",
    "]\n",
    "\n",
    "rand_columns = [\n",
    "  \"livealone_rand\",\n",
    "  \"indepinadl_rand\",\n",
    "  \"infarct\",\n",
    "  \"antiplat_rand\",\n",
    "  \"atrialfib_rand\",\n",
    "  \"sbprand\",\n",
    "  \"dbprand\",\n",
    "  \"weight\",\n",
    "  \"glucose\",\n",
    "  \"gcs_eye_rand\",\n",
    "  \"gcs_motor_rand\",\n",
    "  \"gcs_verbal_rand\",\n",
    "  \"gcs_score_rand\",\n",
    "  \"nihss\",\n",
    "  \"liftarms_rand\",\n",
    "  \"ablewalk_rand\",\n",
    "  \"weakface_rand\",\n",
    "  \"weakarm_rand\",\n",
    "  \"weakleg_rand\",\n",
    "  \"dysphasia_rand\",\n",
    "  \"hemianopia_rand\",\n",
    "  \"visuospat_rand\",\n",
    "  \"brainstemsigns_rand\",\n",
    "  \"otherdeficit_rand\",\n",
    "  \"stroketype\",\n",
    "  \"pred_nihss\",\n",
    "  \"konprob\",\n",
    "  # \"randvioltype\"\n",
    "]\n",
    "\n",
    "context_columns = initial_info_columns + rand_columns"
   ]
  },
  {
   "cell_type": "code",
   "execution_count": 14,
   "id": "3c152572",
   "metadata": {},
   "outputs": [
    {
     "name": "stdout",
     "output_type": "stream",
     "text": [
      "Number of missing values in context features:\n",
      "dbprand     17\n",
      "glucose    211\n",
      "dtype: int64\n"
     ]
    }
   ],
   "source": [
    "context = df[context_columns]\n",
    "\n",
    "#check na in context\n",
    "missing_context = context.isnull().sum()\n",
    "missing_context_cols = missing_context[missing_context > 0].index.tolist()\n",
    "\n",
    "print(\"Number of missing values in context features:\")\n",
    "print(missing_context[missing_context > 0])"
   ]
  },
  {
   "cell_type": "code",
   "execution_count": 15,
   "id": "eda972dc",
   "metadata": {},
   "outputs": [
    {
     "data": {
      "text/plain": [
       "randhosp_id            0\n",
       "randpat_id             0\n",
       "pretrialexp            0\n",
       "country                0\n",
       "trialphase             0\n",
       "phase                  0\n",
       "itt_treat              0\n",
       "age                    0\n",
       "gender                 0\n",
       "randyear               0\n",
       "randmonth              0\n",
       "randhour               0\n",
       "randmin                0\n",
       "randdelay              0\n",
       "livealone_rand         0\n",
       "indepinadl_rand        0\n",
       "infarct                0\n",
       "antiplat_rand          0\n",
       "atrialfib_rand         0\n",
       "sbprand                0\n",
       "dbprand                0\n",
       "weight                 0\n",
       "glucose                0\n",
       "gcs_eye_rand           0\n",
       "gcs_motor_rand         0\n",
       "gcs_verbal_rand        0\n",
       "gcs_score_rand         0\n",
       "nihss                  0\n",
       "liftarms_rand          0\n",
       "ablewalk_rand          0\n",
       "weakface_rand          0\n",
       "weakarm_rand           0\n",
       "weakleg_rand           0\n",
       "dysphasia_rand         0\n",
       "hemianopia_rand        0\n",
       "visuospat_rand         0\n",
       "brainstemsigns_rand    0\n",
       "otherdeficit_rand      0\n",
       "stroketype             0\n",
       "pred_nihss             0\n",
       "konprob                0\n",
       "dtype: int64"
      ]
     },
     "execution_count": 15,
     "metadata": {},
     "output_type": "execute_result"
    }
   ],
   "source": [
    "# impute missing context values\n",
    "imputer = SimpleImputer(strategy='mean')\n",
    "context_imputed = context.copy()\n",
    "context_imputed[missing_context_cols] = imputer.fit_transform(context[missing_context_cols])\n",
    "context_imputed.isnull().sum()"
   ]
  },
  {
   "cell_type": "markdown",
   "id": "afdd0da2",
   "metadata": {},
   "source": [
    "Export reward, action, context to csv:"
   ]
  },
  {
   "cell_type": "code",
   "execution_count": 18,
   "id": "61750831",
   "metadata": {},
   "outputs": [],
   "source": [
    "df_recombined = pd.concat([actions, rewards, context], axis=1)"
   ]
  },
  {
   "cell_type": "code",
   "execution_count": 20,
   "id": "aa8a274e",
   "metadata": {},
   "outputs": [],
   "source": [
    "#export to csv\n",
    "df_recombined.to_csv(\"action_reward_context_combined_processed.csv\", index=False)"
   ]
  }
 ],
 "metadata": {
  "kernelspec": {
   "display_name": "iaifi",
   "language": "python",
   "name": "python3"
  },
  "language_info": {
   "codemirror_mode": {
    "name": "ipython",
    "version": 3
   },
   "file_extension": ".py",
   "mimetype": "text/x-python",
   "name": "python",
   "nbconvert_exporter": "python",
   "pygments_lexer": "ipython3",
   "version": "3.11.13"
  }
 },
 "nbformat": 4,
 "nbformat_minor": 5
}
